{
  "cells": [
    {
      "cell_type": "markdown",
      "metadata": {
        "id": "view-in-github",
        "colab_type": "text"
      },
      "source": [
        "<a href=\"https://colab.research.google.com/github/oumeimaghnimi/basics_for_infrared_detection/blob/master/Copie_de_download_data_LSOTB.ipynb\" target=\"_parent\"><img src=\"https://colab.research.google.com/assets/colab-badge.svg\" alt=\"Open In Colab\"/></a>"
      ]
    },
    {
      "cell_type": "code",
      "execution_count": null,
      "metadata": {
        "id": "2oluJ0X30TSh",
        "colab": {
          "base_uri": "https://localhost:8080/"
        },
        "outputId": "beafc90f-1ed0-46ca-b340-6bb6b9ecd018"
      },
      "outputs": [
        {
          "output_type": "stream",
          "name": "stdout",
          "text": [
            "We're running Colab\n"
          ]
        }
      ],
      "source": [
        "\n",
        "# https://colab.research.google.com/github/kenperry-public/ML_Fall_2019/blob/master/Colab_practical.ipynb?hl=fr#scrollTo=Mcqk5eFR1AMf\n",
        "# Check to see if we're running in Colab (versus local server)\n",
        "try:\n",
        "  from google.colab import drive\n",
        "  IN_COLAB=True\n",
        "except:\n",
        "  IN_COLAB=False\n",
        "\n",
        "if IN_COLAB:\n",
        "  print(\"We're running Colab\")\n",
        "  "
      ]
    },
    {
      "cell_type": "markdown",
      "source": [
        "Mount the Google Drive (if we're in Colab), switch current directory to a directory on the Google Drive\n",
        "we will (optionally) create the specified directory on the Google Drive if it doesn't exist\n",
        "if IN_COLAB:\n",
        "  # Mount the Google Drive at mount\n",
        "  mount='/content/gdrive'\n",
        "\n",
        "  print(\"Colab: mounting Google drive on \", mount)\n",
        "  \n",
        "  drive.mount(mount)"
      ],
      "metadata": {
        "id": "VktwhpM5IiM-"
      }
    },
    {
      "cell_type": "code",
      "source": [
        "from google.colab import drive\n",
        "# drive. mount('/content/drive')\n",
        "drive. mount('/content/gdrive')\n",
        "mount = \"/content/gdrive\""
      ],
      "metadata": {
        "id": "VaDnmpBYF-eG",
        "colab": {
          "base_uri": "https://localhost:8080/"
        },
        "outputId": "769ad1f0-8cd7-4161-d657-ddbd6b601e49"
      },
      "execution_count": null,
      "outputs": [
        {
          "output_type": "stream",
          "name": "stdout",
          "text": [
            "Mounted at /content/gdrive\n"
          ]
        }
      ]
    },
    {
      "cell_type": "markdown",
      "source": [
        "switch current directory to a directory on the Google Drive we will (optionally) create the specified directory on the Google Drive if it doesn't exist if IN_COLAB:"
      ],
      "metadata": {
        "id": "K936bFlCJyEL"
      }
    },
    {
      "cell_type": "code",
      "source": [
        "# Switch to the directory on the Google Drive that you want to use\n",
        "!pip install os\n",
        "import os\n",
        "drive_root = mount + \"/My Drive/Colab Notebooks/first trial\"\n",
        "  \n",
        "  # Create drive_root if it doesn't exist\n",
        "create_drive_root = True\n",
        "if create_drive_root:\n",
        "   print(\"\\nColab: making sure \", drive_root, \" exists.\")\n",
        "   os.makedirs(drive_root, exist_ok=True)\n",
        "  # Change to the directory\n",
        "   print(\"\\nColab: Changing directory to \", drive_root)\n",
        "   %cd $drive_root"
      ],
      "metadata": {
        "id": "QUmCsfVeJnXQ",
        "colab": {
          "base_uri": "https://localhost:8080/"
        },
        "outputId": "9233c751-367a-4154-f19b-ee9c58f0bf9f"
      },
      "execution_count": null,
      "outputs": [
        {
          "output_type": "stream",
          "name": "stdout",
          "text": [
            "Looking in indexes: https://pypi.org/simple, https://us-python.pkg.dev/colab-wheels/public/simple/\n",
            "\u001b[31mERROR: Could not find a version that satisfies the requirement os (from versions: none)\u001b[0m\n",
            "\u001b[31mERROR: No matching distribution found for os\u001b[0m\n",
            "\n",
            "Colab: making sure  /content/gdrive/My Drive/Colab Notebooks/first trial  exists.\n",
            "\n",
            "Colab: Changing directory to  /content/gdrive/My Drive/Colab Notebooks/first trial\n",
            "/content/gdrive/My Drive/Colab Notebooks/first trial\n"
          ]
        }
      ]
    },
    {
      "cell_type": "code",
      "source": [
        "# Verify we're in the correct working directory\n",
        "%pwd"
      ],
      "metadata": {
        "id": "b4mTvNhRKHiY",
        "colab": {
          "base_uri": "https://localhost:8080/",
          "height": 35
        },
        "outputId": "6e8835dd-b1e0-45b7-a104-ab562a671190"
      },
      "execution_count": null,
      "outputs": [
        {
          "output_type": "execute_result",
          "data": {
            "text/plain": [
              "'/content/gdrive/My Drive/Colab Notebooks/first trial'"
            ],
            "application/vnd.google.colaboratory.intrinsic+json": {
              "type": "string"
            }
          },
          "metadata": {},
          "execution_count": 6
        }
      ]
    },
    {
      "cell_type": "markdown",
      "source": [
        "Fill the working directory from our Git repo !"
      ],
      "metadata": {
        "id": "CYQLQE6HME2n"
      }
    },
    {
      "cell_type": "code",
      "source": [
        "# Let's load the working directory from our Git repo !\n",
        "repo_url = \"https://github.com/oumeimaghnimi/basics_for_infrared_detection.git\"\n",
        "\n",
        "# Clone the repo unless it is already there\n",
        "repo_root = os.path.join(drive_root,\"basics_for_infrared_detection\")\n",
        "repo_root_data_path= os.path.join(repo_root, \"dataset\")\n",
        "\n",
        "# Clone or refresh from the repo depending on whether we've cloned before\n",
        "if not os.path.exists( repo_root ):\n",
        "  print(\"Cloning from Git url: \", repo_url)\n",
        "  ! git clone $repo_url\n",
        "else:\n",
        "  print(\"Refreshing from Git url: \", repo_url)\n",
        "  %cd $repo_root\n",
        "  ! git pull\n",
        "print(\"\\nChange working directory to repo root\")\n",
        "%cd $repo_root\n",
        "%cd dataset"
      ],
      "metadata": {
        "id": "9OXMBMnuMHP1",
        "colab": {
          "base_uri": "https://localhost:8080/"
        },
        "outputId": "7a505380-3b33-4b70-e8b8-0a9601f52116"
      },
      "execution_count": null,
      "outputs": [
        {
          "output_type": "stream",
          "name": "stdout",
          "text": [
            "Refreshing from Git url:  https://github.com/oumeimaghnimi/basics_for_infrared_detection.git\n",
            "/content/gdrive/My Drive/Colab Notebooks/first trial/basics_for_infrared_detection\n",
            "Already up to date.\n",
            "\n",
            "Change working directory to repo root\n",
            "/content/gdrive/My Drive/Colab Notebooks/first trial/basics_for_infrared_detection\n",
            "/content/gdrive/My Drive/Colab Notebooks/first trial/basics_for_infrared_detection/dataset\n"
          ]
        }
      ]
    },
    {
      "cell_type": "code",
      "source": [
        "\n",
        "cwd = os. getcwd()\n",
        "print(cwd)\n",
        "!ls\n",
        "repo_root_data_path= os.path.join(repo_root, \"dataset\", \"LSOTB-TIR_TrainingData_part5\")\n",
        "print(repo_root_data_path)\n"
      ],
      "metadata": {
        "colab": {
          "base_uri": "https://localhost:8080/"
        },
        "id": "DvJo-VlroDmK",
        "outputId": "edce197f-b357-4731-8a15-08c1e3efb628"
      },
      "execution_count": null,
      "outputs": [
        {
          "output_type": "stream",
          "name": "stdout",
          "text": [
            "/content/gdrive/MyDrive/Colab Notebooks/first trial/basics_for_infrared_detection/dataset\n",
            "effectiveexercice_manyevent_sequence_only_one_script_test.m\n",
            "frame_to_video.py\n",
            "image_rename.py\n",
            "LSOTB_paper.pdf\n",
            "LSOTB-TIR-supplementary_materials.pdf\n",
            "LSOTB-TIR_TrainingData\n",
            "LSOTB-TIR_TrainingData.part5.rar\n",
            "lsotb_to_coco.py\n",
            "parseXMLsequencet.m\n",
            "run_for_part5_dataset.m\n",
            "/content/gdrive/My Drive/Colab Notebooks/first trial/basics_for_infrared_detection/dataset/LSOTB-TIR_TrainingData_part5\n"
          ]
        }
      ]
    },
    {
      "cell_type": "markdown",
      "source": [
        "%%writefile add.m\n",
        "x = 1\n",
        "y = 2\n",
        "display(x+y)\n",
        "\n",
        "output: Writing add.m\n",
        "\n",
        " -W : no window system\n",
        "!octave -W add.m\n",
        "x =  1\n",
        "y =  2\n",
        " 3\n",
        "!apt install octave\n",
        "!octave -W file.m"
      ],
      "metadata": {
        "id": "RqhtJym0nn9N"
      }
    },
    {
      "cell_type": "markdown",
      "source": [
        ""
      ],
      "metadata": {
        "id": "aMlsfL0ekwG0"
      }
    },
    {
      "cell_type": "code",
      "source": [
        "!apt install octave\n"
      ],
      "metadata": {
        "colab": {
          "base_uri": "https://localhost:8080/"
        },
        "id": "ENGGwjgxoqG0",
        "outputId": "ca6545b0-2721-4bfd-e772-5304a06fc9aa"
      },
      "execution_count": null,
      "outputs": [
        {
          "output_type": "stream",
          "name": "stdout",
          "text": [
            "Reading package lists... Done\n",
            "Building dependency tree       \n",
            "Reading state information... Done\n",
            "The following package was automatically installed and is no longer required:\n",
            "  libnvidia-common-460\n",
            "Use 'apt autoremove' to remove it.\n",
            "The following additional packages will be installed:\n",
            "  aglfn epstool fonts-droid-fallback fonts-noto-mono ghostscript gnuplot-data\n",
            "  gnuplot-qt gsfonts imagemagick-6-common info install-info libamd2\n",
            "  libauthen-sasl-perl libcamd2 libccolamd2 libcholmod3 libcolamd2\n",
            "  libcupsfilters1 libcupsimage2 libcxsparse3 libdata-dump-perl libemf1\n",
            "  libencode-locale-perl libfftw3-single3 libfile-listing-perl libfltk-gl1.3\n",
            "  libfltk1.3 libfont-afm-perl libgail-common libgail18 libglpk40\n",
            "  libgraphicsmagick++-q16-12 libgraphicsmagick-q16-3 libgs9 libgs9-common\n",
            "  libgtk2.0-0 libgtk2.0-bin libgtk2.0-common libhtml-form-perl\n",
            "  libhtml-format-perl libhtml-parser-perl libhtml-tagset-perl\n",
            "  libhtml-tree-perl libhttp-cookies-perl libhttp-daemon-perl libhttp-date-perl\n",
            "  libhttp-message-perl libhttp-negotiate-perl libijs-0.35 libio-html-perl\n",
            "  libio-socket-ssl-perl libjbig2dec0 liblqr-1-0 liblua5.3-0\n",
            "  liblwp-mediatypes-perl liblwp-protocol-https-perl libmagick++-6.q16-7\n",
            "  libmagickcore-6.q16-3 libmagickwand-6.q16-3 libmailtools-perl libmetis5\n",
            "  libnet-http-perl libnet-smtp-ssl-perl libnet-ssleay-perl libnotify4\n",
            "  liboctave4 libosmesa6 libplot2c2 libportaudio2 libpstoedit0c2a libqrupdate1\n",
            "  libqscintilla2-qt5-13 libqscintilla2-qt5-l10n libqt5opengl5 libqt5svg5\n",
            "  libsuitesparseconfig5 libtext-unidecode-perl libtimedate-perl\n",
            "  libtry-tiny-perl libumfpack5 liburi-perl libwmf0.2-7 libwww-perl\n",
            "  libwww-robotrules-perl libwxbase3.0-0v5 libwxgtk3.0-0v5 libxml-libxml-perl\n",
            "  libxml-namespacesupport-perl libxml-parser-perl libxml-sax-base-perl\n",
            "  libxml-sax-expat-perl libxml-sax-perl libzip4 netbase notification-daemon\n",
            "  octave-common octave-doc perl-openssl-defaults poppler-data pstoedit\n",
            "  tex-common texinfo\n",
            "Suggested packages:\n",
            "  fonts-noto ghostscript-x gnuplot-doc texinfo-doc-nonfree libdigest-hmac-perl\n",
            "  libgssapi-perl libfftw3-bin libfftw3-dev libiodbc2-dev graphicsmagick-dbg\n",
            "  gvfs libcrypt-ssleay-perl libmagickcore-6.q16-3-extra libqscintilla2-doc\n",
            "  libwmf0.2-7-gtk libauthen-ntlm-perl liboctave-dev www-browser | pdf-viewer\n",
            "  poppler-utils fonts-japanese-mincho | fonts-ipafont-mincho\n",
            "  fonts-japanese-gothic | fonts-ipafont-gothic fonts-arphic-ukai\n",
            "  fonts-arphic-uming fonts-nanum xfig | ivtools-bin | tgif | transfig\n",
            "  debhelper texlive-base texlive-latex-base texlive-generic-recommended\n",
            "  texlive-fonts-recommended\n",
            "The following NEW packages will be installed:\n",
            "  aglfn epstool fonts-droid-fallback fonts-noto-mono ghostscript gnuplot-data\n",
            "  gnuplot-qt gsfonts imagemagick-6-common info install-info libamd2\n",
            "  libauthen-sasl-perl libcamd2 libccolamd2 libcholmod3 libcolamd2\n",
            "  libcupsfilters1 libcupsimage2 libcxsparse3 libdata-dump-perl libemf1\n",
            "  libencode-locale-perl libfftw3-single3 libfile-listing-perl libfltk-gl1.3\n",
            "  libfltk1.3 libfont-afm-perl libgail-common libgail18 libglpk40\n",
            "  libgraphicsmagick++-q16-12 libgraphicsmagick-q16-3 libgs9 libgs9-common\n",
            "  libgtk2.0-0 libgtk2.0-bin libgtk2.0-common libhtml-form-perl\n",
            "  libhtml-format-perl libhtml-parser-perl libhtml-tagset-perl\n",
            "  libhtml-tree-perl libhttp-cookies-perl libhttp-daemon-perl libhttp-date-perl\n",
            "  libhttp-message-perl libhttp-negotiate-perl libijs-0.35 libio-html-perl\n",
            "  libio-socket-ssl-perl libjbig2dec0 liblqr-1-0 liblua5.3-0\n",
            "  liblwp-mediatypes-perl liblwp-protocol-https-perl libmagick++-6.q16-7\n",
            "  libmagickcore-6.q16-3 libmagickwand-6.q16-3 libmailtools-perl libmetis5\n",
            "  libnet-http-perl libnet-smtp-ssl-perl libnet-ssleay-perl libnotify4\n",
            "  liboctave4 libosmesa6 libplot2c2 libportaudio2 libpstoedit0c2a libqrupdate1\n",
            "  libqscintilla2-qt5-13 libqscintilla2-qt5-l10n libqt5opengl5 libqt5svg5\n",
            "  libsuitesparseconfig5 libtext-unidecode-perl libtimedate-perl\n",
            "  libtry-tiny-perl libumfpack5 liburi-perl libwmf0.2-7 libwww-perl\n",
            "  libwww-robotrules-perl libwxbase3.0-0v5 libwxgtk3.0-0v5 libxml-libxml-perl\n",
            "  libxml-namespacesupport-perl libxml-parser-perl libxml-sax-base-perl\n",
            "  libxml-sax-expat-perl libxml-sax-perl libzip4 netbase notification-daemon\n",
            "  octave octave-common octave-doc perl-openssl-defaults poppler-data pstoedit\n",
            "  tex-common texinfo\n",
            "0 upgraded, 103 newly installed, 0 to remove and 49 not upgraded.\n",
            "Need to get 53.6 MB of archives.\n",
            "After this operation, 210 MB of additional disk space will be used.\n",
            "Get:1 http://archive.ubuntu.com/ubuntu bionic/main amd64 install-info amd64 6.5.0.dfsg.1-2 [55.4 kB]\n",
            "Get:2 http://archive.ubuntu.com/ubuntu bionic/main amd64 fonts-droid-fallback all 1:6.0.1r16-1.1 [1,805 kB]\n",
            "Get:3 http://archive.ubuntu.com/ubuntu bionic/main amd64 liblqr-1-0 amd64 0.4.2-2.1 [27.7 kB]\n",
            "Get:4 http://archive.ubuntu.com/ubuntu bionic-updates/main amd64 imagemagick-6-common all 8:6.9.7.4+dfsg-16ubuntu6.13 [60.3 kB]\n",
            "Get:5 http://archive.ubuntu.com/ubuntu bionic-updates/main amd64 libmagickcore-6.q16-3 amd64 8:6.9.7.4+dfsg-16ubuntu6.13 [1,620 kB]\n",
            "Get:6 http://archive.ubuntu.com/ubuntu bionic-updates/main amd64 libmagickwand-6.q16-3 amd64 8:6.9.7.4+dfsg-16ubuntu6.13 [292 kB]\n",
            "Get:7 http://archive.ubuntu.com/ubuntu bionic-updates/main amd64 libqt5svg5 amd64 5.9.5-0ubuntu1.1 [129 kB]\n",
            "Get:8 http://archive.ubuntu.com/ubuntu bionic/main amd64 poppler-data all 0.4.8-2 [1,479 kB]\n",
            "Get:9 http://archive.ubuntu.com/ubuntu bionic/main amd64 tex-common all 6.09 [33.0 kB]\n",
            "Get:10 http://archive.ubuntu.com/ubuntu bionic/main amd64 netbase all 5.4 [12.7 kB]\n",
            "Get:11 http://archive.ubuntu.com/ubuntu bionic/main amd64 info amd64 6.5.0.dfsg.1-2 [104 kB]\n",
            "Get:12 http://archive.ubuntu.com/ubuntu bionic-updates/main amd64 libcupsimage2 amd64 2.2.7-1ubuntu2.9 [18.6 kB]\n",
            "Get:13 http://archive.ubuntu.com/ubuntu bionic/main amd64 libijs-0.35 amd64 0.35-13 [15.5 kB]\n",
            "Get:14 http://archive.ubuntu.com/ubuntu bionic/main amd64 libjbig2dec0 amd64 0.13-6 [55.9 kB]\n",
            "Get:15 http://archive.ubuntu.com/ubuntu bionic-updates/main amd64 libgs9-common all 9.26~dfsg+0-0ubuntu0.18.04.16 [5,093 kB]\n",
            "Get:16 http://archive.ubuntu.com/ubuntu bionic-updates/main amd64 libgs9 amd64 9.26~dfsg+0-0ubuntu0.18.04.16 [2,265 kB]\n",
            "Get:17 http://archive.ubuntu.com/ubuntu bionic-updates/main amd64 ghostscript amd64 9.26~dfsg+0-0ubuntu0.18.04.16 [51.3 kB]\n",
            "Get:18 http://archive.ubuntu.com/ubuntu bionic/universe amd64 epstool amd64 3.08+repack-7 [108 kB]\n",
            "Get:19 http://archive.ubuntu.com/ubuntu bionic/main amd64 fonts-noto-mono all 20171026-2 [75.5 kB]\n",
            "Get:20 http://archive.ubuntu.com/ubuntu bionic/universe amd64 aglfn all 1.7-3 [29.4 kB]\n",
            "Get:21 http://archive.ubuntu.com/ubuntu bionic/universe amd64 gnuplot-data all 5.2.2+dfsg1-2ubuntu1 [56.7 kB]\n",
            "Get:22 http://archive.ubuntu.com/ubuntu bionic-updates/main amd64 liblua5.3-0 amd64 5.3.3-1ubuntu0.18.04.1 [115 kB]\n",
            "Get:23 http://archive.ubuntu.com/ubuntu bionic/universe amd64 libwxbase3.0-0v5 amd64 3.0.4+dfsg-3 [954 kB]\n",
            "Get:24 http://archive.ubuntu.com/ubuntu bionic/main amd64 libgtk2.0-common all 2.24.32-1ubuntu1 [125 kB]\n",
            "Get:25 http://archive.ubuntu.com/ubuntu bionic/main amd64 libgtk2.0-0 amd64 2.24.32-1ubuntu1 [1,769 kB]\n",
            "Get:26 http://archive.ubuntu.com/ubuntu bionic/main amd64 libnotify4 amd64 0.7.7-3 [17.3 kB]\n",
            "Get:27 http://archive.ubuntu.com/ubuntu bionic/universe amd64 libwxgtk3.0-0v5 amd64 3.0.4+dfsg-3 [4,182 kB]\n",
            "Get:28 http://archive.ubuntu.com/ubuntu bionic/universe amd64 gnuplot-qt amd64 5.2.2+dfsg1-2ubuntu1 [1,013 kB]\n",
            "Get:29 http://archive.ubuntu.com/ubuntu bionic/main amd64 gsfonts all 1:8.11+urwcyr1.0.7~pre44-4.4 [3,120 kB]\n",
            "Get:30 http://archive.ubuntu.com/ubuntu bionic/main amd64 libsuitesparseconfig5 amd64 1:5.1.2-2 [9,044 B]\n",
            "Get:31 http://archive.ubuntu.com/ubuntu bionic/main amd64 libamd2 amd64 1:5.1.2-2 [19.5 kB]\n",
            "Get:32 http://archive.ubuntu.com/ubuntu bionic/main amd64 libcamd2 amd64 1:5.1.2-2 [20.9 kB]\n",
            "Get:33 http://archive.ubuntu.com/ubuntu bionic/main amd64 libccolamd2 amd64 1:5.1.2-2 [21.7 kB]\n",
            "Get:34 http://archive.ubuntu.com/ubuntu bionic/main amd64 libcolamd2 amd64 1:5.1.2-2 [16.2 kB]\n",
            "Get:35 http://archive.ubuntu.com/ubuntu bionic/main amd64 libmetis5 amd64 5.1.0.dfsg-5 [169 kB]\n",
            "Get:36 http://archive.ubuntu.com/ubuntu bionic/main amd64 libcholmod3 amd64 1:5.1.2-2 [300 kB]\n",
            "Get:37 http://archive.ubuntu.com/ubuntu bionic-updates/main amd64 libcupsfilters1 amd64 1.20.2-0ubuntu3.1 [108 kB]\n",
            "Get:38 http://archive.ubuntu.com/ubuntu bionic/main amd64 libcxsparse3 amd64 1:5.1.2-2 [63.9 kB]\n",
            "Get:39 http://archive.ubuntu.com/ubuntu bionic/main amd64 libdata-dump-perl all 1.23-1 [27.0 kB]\n",
            "Get:40 http://archive.ubuntu.com/ubuntu bionic/universe amd64 libemf1 amd64 1.0.9+git.10.3231442-1 [54.7 kB]\n",
            "Get:41 http://archive.ubuntu.com/ubuntu bionic/main amd64 libencode-locale-perl all 1.05-1 [12.3 kB]\n",
            "Get:42 http://archive.ubuntu.com/ubuntu bionic/main amd64 libfftw3-single3 amd64 3.3.7-1 [764 kB]\n",
            "Get:43 http://archive.ubuntu.com/ubuntu bionic/main amd64 libtimedate-perl all 2.3000-2 [37.5 kB]\n",
            "Get:44 http://archive.ubuntu.com/ubuntu bionic/main amd64 libhttp-date-perl all 6.02-1 [10.4 kB]\n",
            "Get:45 http://archive.ubuntu.com/ubuntu bionic/main amd64 libfile-listing-perl all 6.04-1 [9,774 B]\n",
            "Get:46 http://archive.ubuntu.com/ubuntu bionic/universe amd64 libfltk1.3 amd64 1.3.4-6 [523 kB]\n",
            "Get:47 http://archive.ubuntu.com/ubuntu bionic/universe amd64 libfltk-gl1.3 amd64 1.3.4-6 [37.7 kB]\n",
            "Get:48 http://archive.ubuntu.com/ubuntu bionic/main amd64 libfont-afm-perl all 1.20-2 [13.2 kB]\n",
            "Get:49 http://archive.ubuntu.com/ubuntu bionic/main amd64 libgail18 amd64 2.24.32-1ubuntu1 [14.2 kB]\n",
            "Get:50 http://archive.ubuntu.com/ubuntu bionic/main amd64 libgail-common amd64 2.24.32-1ubuntu1 [112 kB]\n",
            "Get:51 http://archive.ubuntu.com/ubuntu bionic/universe amd64 libglpk40 amd64 4.65-1 [378 kB]\n",
            "Get:52 http://archive.ubuntu.com/ubuntu bionic/main amd64 libwmf0.2-7 amd64 0.2.8.4-12 [150 kB]\n",
            "Get:53 http://archive.ubuntu.com/ubuntu bionic-updates/universe amd64 libgraphicsmagick-q16-3 amd64 1.3.28-2ubuntu0.1 [1,116 kB]\n",
            "Get:54 http://archive.ubuntu.com/ubuntu bionic-updates/universe amd64 libgraphicsmagick++-q16-12 amd64 1.3.28-2ubuntu0.1 [102 kB]\n",
            "Get:55 http://archive.ubuntu.com/ubuntu bionic/main amd64 libgtk2.0-bin amd64 2.24.32-1ubuntu1 [7,536 B]\n",
            "Get:56 http://archive.ubuntu.com/ubuntu bionic/main amd64 libhtml-tagset-perl all 3.20-3 [12.1 kB]\n",
            "Get:57 http://archive.ubuntu.com/ubuntu bionic/main amd64 liburi-perl all 1.73-1 [77.2 kB]\n",
            "Get:58 http://archive.ubuntu.com/ubuntu bionic/main amd64 libhtml-parser-perl amd64 3.72-3build1 [85.9 kB]\n",
            "Get:59 http://archive.ubuntu.com/ubuntu bionic/main amd64 libio-html-perl all 1.001-1 [14.9 kB]\n",
            "Get:60 http://archive.ubuntu.com/ubuntu bionic/main amd64 liblwp-mediatypes-perl all 6.02-1 [21.7 kB]\n",
            "Get:61 http://archive.ubuntu.com/ubuntu bionic/main amd64 libhttp-message-perl all 6.14-1 [72.1 kB]\n",
            "Get:62 http://archive.ubuntu.com/ubuntu bionic/main amd64 libhtml-form-perl all 6.03-1 [23.5 kB]\n",
            "Get:63 http://archive.ubuntu.com/ubuntu bionic/main amd64 libhtml-tree-perl all 5.07-1 [200 kB]\n",
            "Get:64 http://archive.ubuntu.com/ubuntu bionic/main amd64 libhtml-format-perl all 2.12-1 [41.3 kB]\n",
            "Get:65 http://archive.ubuntu.com/ubuntu bionic/main amd64 libhttp-cookies-perl all 6.04-1 [17.2 kB]\n",
            "Get:66 http://archive.ubuntu.com/ubuntu bionic/main amd64 libhttp-daemon-perl all 6.01-1 [17.0 kB]\n",
            "Get:67 http://archive.ubuntu.com/ubuntu bionic/main amd64 libhttp-negotiate-perl all 6.00-2 [13.4 kB]\n",
            "Get:68 http://archive.ubuntu.com/ubuntu bionic/main amd64 perl-openssl-defaults amd64 3build1 [7,012 B]\n",
            "Get:69 http://archive.ubuntu.com/ubuntu bionic-updates/main amd64 libnet-ssleay-perl amd64 1.84-1ubuntu0.2 [283 kB]\n",
            "Get:70 http://archive.ubuntu.com/ubuntu bionic-updates/main amd64 libio-socket-ssl-perl all 2.060-3~ubuntu18.04.1 [173 kB]\n",
            "Get:71 http://archive.ubuntu.com/ubuntu bionic/main amd64 libnet-http-perl all 6.17-1 [22.7 kB]\n",
            "Get:72 http://archive.ubuntu.com/ubuntu bionic/main amd64 libtry-tiny-perl all 0.30-1 [20.5 kB]\n",
            "Get:73 http://archive.ubuntu.com/ubuntu bionic/main amd64 libwww-robotrules-perl all 6.01-1 [14.1 kB]\n",
            "Get:74 http://archive.ubuntu.com/ubuntu bionic-updates/main amd64 libwww-perl all 6.31-1ubuntu0.1 [137 kB]\n",
            "Get:75 http://archive.ubuntu.com/ubuntu bionic/main amd64 liblwp-protocol-https-perl all 6.07-2 [8,284 B]\n",
            "Get:76 http://archive.ubuntu.com/ubuntu bionic-updates/main amd64 libmagick++-6.q16-7 amd64 8:6.9.7.4+dfsg-16ubuntu6.13 [139 kB]\n",
            "Get:77 http://archive.ubuntu.com/ubuntu bionic/main amd64 libnet-smtp-ssl-perl all 1.04-1 [5,948 B]\n",
            "Get:78 http://archive.ubuntu.com/ubuntu bionic/main amd64 libmailtools-perl all 2.18-1 [74.0 kB]\n",
            "Get:79 http://archive.ubuntu.com/ubuntu bionic/universe amd64 libqrupdate1 amd64 1.1.2-2build1 [36.5 kB]\n",
            "Get:80 http://archive.ubuntu.com/ubuntu bionic/main amd64 libumfpack5 amd64 1:5.1.2-2 [229 kB]\n",
            "Get:81 http://archive.ubuntu.com/ubuntu bionic/universe amd64 liboctave4 amd64 4.2.2-1ubuntu1 [6,736 kB]\n",
            "Get:82 http://archive.ubuntu.com/ubuntu bionic/universe amd64 libplot2c2 amd64 2.6-9 [502 kB]\n",
            "Get:83 http://archive.ubuntu.com/ubuntu bionic/universe amd64 libportaudio2 amd64 19.6.0-1 [64.6 kB]\n",
            "Get:84 http://archive.ubuntu.com/ubuntu bionic/universe amd64 libzip4 amd64 1.1.2-1.1 [37.8 kB]\n",
            "Get:85 http://archive.ubuntu.com/ubuntu bionic/universe amd64 libpstoedit0c2a amd64 3.70-5 [349 kB]\n",
            "Get:86 http://archive.ubuntu.com/ubuntu bionic/universe amd64 libqscintilla2-qt5-l10n all 2.10.2+dfsg-4 [39.7 kB]\n",
            "Get:87 http://archive.ubuntu.com/ubuntu bionic/universe amd64 libqscintilla2-qt5-13 amd64 2.10.2+dfsg-4 [1,030 kB]\n",
            "Get:88 http://archive.ubuntu.com/ubuntu bionic-updates/main amd64 libqt5opengl5 amd64 5.9.5+dfsg-0ubuntu2.6 [132 kB]\n",
            "Get:89 http://archive.ubuntu.com/ubuntu bionic/universe amd64 libtext-unidecode-perl all 1.30-1 [99.0 kB]\n",
            "Get:90 http://archive.ubuntu.com/ubuntu bionic/main amd64 libxml-namespacesupport-perl all 1.12-1 [13.2 kB]\n",
            "Get:91 http://archive.ubuntu.com/ubuntu bionic/main amd64 libxml-sax-base-perl all 1.09-1 [18.8 kB]\n",
            "Get:92 http://archive.ubuntu.com/ubuntu bionic/main amd64 libxml-sax-perl all 0.99+dfsg-2ubuntu1 [64.6 kB]\n",
            "Get:93 http://archive.ubuntu.com/ubuntu bionic/main amd64 libxml-libxml-perl amd64 2.0128+dfsg-5 [316 kB]\n",
            "Get:94 http://archive.ubuntu.com/ubuntu bionic/main amd64 libxml-parser-perl amd64 2.44-2build3 [199 kB]\n",
            "Get:95 http://archive.ubuntu.com/ubuntu bionic/main amd64 libxml-sax-expat-perl all 0.40-2 [11.5 kB]\n",
            "Get:96 http://archive.ubuntu.com/ubuntu bionic/main amd64 notification-daemon amd64 3.20.0-3 [36.9 kB]\n",
            "Get:97 http://archive.ubuntu.com/ubuntu bionic/universe amd64 pstoedit amd64 3.70-5 [102 kB]\n",
            "Get:98 http://archive.ubuntu.com/ubuntu bionic/universe amd64 texinfo amd64 6.5.0.dfsg.1-2 [752 kB]\n",
            "Get:99 http://archive.ubuntu.com/ubuntu bionic/main amd64 libauthen-sasl-perl all 2.1600-1 [48.7 kB]\n",
            "Get:100 http://archive.ubuntu.com/ubuntu bionic-updates/main amd64 libosmesa6 amd64 20.0.8-0ubuntu1~18.04.1 [2,641 kB]\n",
            "Get:101 http://archive.ubuntu.com/ubuntu bionic/universe amd64 octave-common all 4.2.2-1ubuntu1 [1,444 kB]\n",
            "Get:102 http://archive.ubuntu.com/ubuntu bionic/universe amd64 octave amd64 4.2.2-1ubuntu1 [1,583 kB]\n",
            "Get:103 http://archive.ubuntu.com/ubuntu bionic/universe amd64 octave-doc all 4.2.2-1ubuntu1 [6,836 kB]\n",
            "Fetched 53.6 MB in 7s (8,209 kB/s)\n",
            "Extracting templates from packages: 100%\n",
            "Selecting previously unselected package install-info.\n",
            "(Reading database ... 155653 files and directories currently installed.)\n",
            "Preparing to unpack .../install-info_6.5.0.dfsg.1-2_amd64.deb ...\n",
            "Unpacking install-info (6.5.0.dfsg.1-2) ...\n",
            "Setting up install-info (6.5.0.dfsg.1-2) ...\n",
            "Selecting previously unselected package fonts-droid-fallback.\n",
            "(Reading database ... 155666 files and directories currently installed.)\n",
            "Preparing to unpack .../000-fonts-droid-fallback_1%3a6.0.1r16-1.1_all.deb ...\n",
            "Unpacking fonts-droid-fallback (1:6.0.1r16-1.1) ...\n",
            "Selecting previously unselected package liblqr-1-0:amd64.\n",
            "Preparing to unpack .../001-liblqr-1-0_0.4.2-2.1_amd64.deb ...\n",
            "Unpacking liblqr-1-0:amd64 (0.4.2-2.1) ...\n",
            "Selecting previously unselected package imagemagick-6-common.\n",
            "Preparing to unpack .../002-imagemagick-6-common_8%3a6.9.7.4+dfsg-16ubuntu6.13_all.deb ...\n",
            "Unpacking imagemagick-6-common (8:6.9.7.4+dfsg-16ubuntu6.13) ...\n",
            "Selecting previously unselected package libmagickcore-6.q16-3:amd64.\n",
            "Preparing to unpack .../003-libmagickcore-6.q16-3_8%3a6.9.7.4+dfsg-16ubuntu6.13_amd64.deb ...\n",
            "Unpacking libmagickcore-6.q16-3:amd64 (8:6.9.7.4+dfsg-16ubuntu6.13) ...\n",
            "Selecting previously unselected package libmagickwand-6.q16-3:amd64.\n",
            "Preparing to unpack .../004-libmagickwand-6.q16-3_8%3a6.9.7.4+dfsg-16ubuntu6.13_amd64.deb ...\n",
            "Unpacking libmagickwand-6.q16-3:amd64 (8:6.9.7.4+dfsg-16ubuntu6.13) ...\n",
            "Selecting previously unselected package libqt5svg5:amd64.\n",
            "Preparing to unpack .../005-libqt5svg5_5.9.5-0ubuntu1.1_amd64.deb ...\n",
            "Unpacking libqt5svg5:amd64 (5.9.5-0ubuntu1.1) ...\n",
            "Selecting previously unselected package poppler-data.\n",
            "Preparing to unpack .../006-poppler-data_0.4.8-2_all.deb ...\n",
            "Unpacking poppler-data (0.4.8-2) ...\n",
            "Selecting previously unselected package tex-common.\n",
            "Preparing to unpack .../007-tex-common_6.09_all.deb ...\n",
            "Unpacking tex-common (6.09) ...\n",
            "Selecting previously unselected package netbase.\n",
            "Preparing to unpack .../008-netbase_5.4_all.deb ...\n",
            "Unpacking netbase (5.4) ...\n",
            "Selecting previously unselected package info.\n",
            "Preparing to unpack .../009-info_6.5.0.dfsg.1-2_amd64.deb ...\n",
            "Unpacking info (6.5.0.dfsg.1-2) ...\n",
            "Selecting previously unselected package libcupsimage2:amd64.\n",
            "Preparing to unpack .../010-libcupsimage2_2.2.7-1ubuntu2.9_amd64.deb ...\n",
            "Unpacking libcupsimage2:amd64 (2.2.7-1ubuntu2.9) ...\n",
            "Selecting previously unselected package libijs-0.35:amd64.\n",
            "Preparing to unpack .../011-libijs-0.35_0.35-13_amd64.deb ...\n",
            "Unpacking libijs-0.35:amd64 (0.35-13) ...\n",
            "Selecting previously unselected package libjbig2dec0:amd64.\n",
            "Preparing to unpack .../012-libjbig2dec0_0.13-6_amd64.deb ...\n",
            "Unpacking libjbig2dec0:amd64 (0.13-6) ...\n",
            "Selecting previously unselected package libgs9-common.\n",
            "Preparing to unpack .../013-libgs9-common_9.26~dfsg+0-0ubuntu0.18.04.16_all.deb ...\n",
            "Unpacking libgs9-common (9.26~dfsg+0-0ubuntu0.18.04.16) ...\n",
            "Selecting previously unselected package libgs9:amd64.\n",
            "Preparing to unpack .../014-libgs9_9.26~dfsg+0-0ubuntu0.18.04.16_amd64.deb ...\n",
            "Unpacking libgs9:amd64 (9.26~dfsg+0-0ubuntu0.18.04.16) ...\n",
            "Selecting previously unselected package ghostscript.\n",
            "Preparing to unpack .../015-ghostscript_9.26~dfsg+0-0ubuntu0.18.04.16_amd64.deb ...\n",
            "Unpacking ghostscript (9.26~dfsg+0-0ubuntu0.18.04.16) ...\n",
            "Selecting previously unselected package epstool.\n",
            "Preparing to unpack .../016-epstool_3.08+repack-7_amd64.deb ...\n",
            "Unpacking epstool (3.08+repack-7) ...\n",
            "Selecting previously unselected package fonts-noto-mono.\n",
            "Preparing to unpack .../017-fonts-noto-mono_20171026-2_all.deb ...\n",
            "Unpacking fonts-noto-mono (20171026-2) ...\n",
            "Selecting previously unselected package aglfn.\n",
            "Preparing to unpack .../018-aglfn_1.7-3_all.deb ...\n",
            "Unpacking aglfn (1.7-3) ...\n",
            "Selecting previously unselected package gnuplot-data.\n",
            "Preparing to unpack .../019-gnuplot-data_5.2.2+dfsg1-2ubuntu1_all.deb ...\n",
            "Unpacking gnuplot-data (5.2.2+dfsg1-2ubuntu1) ...\n",
            "Selecting previously unselected package liblua5.3-0:amd64.\n",
            "Preparing to unpack .../020-liblua5.3-0_5.3.3-1ubuntu0.18.04.1_amd64.deb ...\n",
            "Unpacking liblua5.3-0:amd64 (5.3.3-1ubuntu0.18.04.1) ...\n",
            "Selecting previously unselected package libwxbase3.0-0v5:amd64.\n",
            "Preparing to unpack .../021-libwxbase3.0-0v5_3.0.4+dfsg-3_amd64.deb ...\n",
            "Unpacking libwxbase3.0-0v5:amd64 (3.0.4+dfsg-3) ...\n",
            "Selecting previously unselected package libgtk2.0-common.\n",
            "Preparing to unpack .../022-libgtk2.0-common_2.24.32-1ubuntu1_all.deb ...\n",
            "Unpacking libgtk2.0-common (2.24.32-1ubuntu1) ...\n",
            "Selecting previously unselected package libgtk2.0-0:amd64.\n",
            "Preparing to unpack .../023-libgtk2.0-0_2.24.32-1ubuntu1_amd64.deb ...\n",
            "Unpacking libgtk2.0-0:amd64 (2.24.32-1ubuntu1) ...\n",
            "Selecting previously unselected package libnotify4:amd64.\n",
            "Preparing to unpack .../024-libnotify4_0.7.7-3_amd64.deb ...\n",
            "Unpacking libnotify4:amd64 (0.7.7-3) ...\n",
            "Selecting previously unselected package libwxgtk3.0-0v5:amd64.\n",
            "Preparing to unpack .../025-libwxgtk3.0-0v5_3.0.4+dfsg-3_amd64.deb ...\n",
            "Unpacking libwxgtk3.0-0v5:amd64 (3.0.4+dfsg-3) ...\n",
            "Selecting previously unselected package gnuplot-qt.\n",
            "Preparing to unpack .../026-gnuplot-qt_5.2.2+dfsg1-2ubuntu1_amd64.deb ...\n",
            "Unpacking gnuplot-qt (5.2.2+dfsg1-2ubuntu1) ...\n",
            "Selecting previously unselected package gsfonts.\n",
            "Preparing to unpack .../027-gsfonts_1%3a8.11+urwcyr1.0.7~pre44-4.4_all.deb ...\n",
            "Unpacking gsfonts (1:8.11+urwcyr1.0.7~pre44-4.4) ...\n",
            "Selecting previously unselected package libsuitesparseconfig5:amd64.\n",
            "Preparing to unpack .../028-libsuitesparseconfig5_1%3a5.1.2-2_amd64.deb ...\n",
            "Unpacking libsuitesparseconfig5:amd64 (1:5.1.2-2) ...\n",
            "Selecting previously unselected package libamd2:amd64.\n",
            "Preparing to unpack .../029-libamd2_1%3a5.1.2-2_amd64.deb ...\n",
            "Unpacking libamd2:amd64 (1:5.1.2-2) ...\n",
            "Selecting previously unselected package libcamd2:amd64.\n",
            "Preparing to unpack .../030-libcamd2_1%3a5.1.2-2_amd64.deb ...\n",
            "Unpacking libcamd2:amd64 (1:5.1.2-2) ...\n",
            "Selecting previously unselected package libccolamd2:amd64.\n",
            "Preparing to unpack .../031-libccolamd2_1%3a5.1.2-2_amd64.deb ...\n",
            "Unpacking libccolamd2:amd64 (1:5.1.2-2) ...\n",
            "Selecting previously unselected package libcolamd2:amd64.\n",
            "Preparing to unpack .../032-libcolamd2_1%3a5.1.2-2_amd64.deb ...\n",
            "Unpacking libcolamd2:amd64 (1:5.1.2-2) ...\n",
            "Selecting previously unselected package libmetis5:amd64.\n",
            "Preparing to unpack .../033-libmetis5_5.1.0.dfsg-5_amd64.deb ...\n",
            "Unpacking libmetis5:amd64 (5.1.0.dfsg-5) ...\n",
            "Selecting previously unselected package libcholmod3:amd64.\n",
            "Preparing to unpack .../034-libcholmod3_1%3a5.1.2-2_amd64.deb ...\n",
            "Unpacking libcholmod3:amd64 (1:5.1.2-2) ...\n",
            "Selecting previously unselected package libcupsfilters1:amd64.\n",
            "Preparing to unpack .../035-libcupsfilters1_1.20.2-0ubuntu3.1_amd64.deb ...\n",
            "Unpacking libcupsfilters1:amd64 (1.20.2-0ubuntu3.1) ...\n",
            "Selecting previously unselected package libcxsparse3:amd64.\n",
            "Preparing to unpack .../036-libcxsparse3_1%3a5.1.2-2_amd64.deb ...\n",
            "Unpacking libcxsparse3:amd64 (1:5.1.2-2) ...\n",
            "Selecting previously unselected package libdata-dump-perl.\n",
            "Preparing to unpack .../037-libdata-dump-perl_1.23-1_all.deb ...\n",
            "Unpacking libdata-dump-perl (1.23-1) ...\n",
            "Selecting previously unselected package libemf1:amd64.\n",
            "Preparing to unpack .../038-libemf1_1.0.9+git.10.3231442-1_amd64.deb ...\n",
            "Unpacking libemf1:amd64 (1.0.9+git.10.3231442-1) ...\n",
            "Selecting previously unselected package libencode-locale-perl.\n",
            "Preparing to unpack .../039-libencode-locale-perl_1.05-1_all.deb ...\n",
            "Unpacking libencode-locale-perl (1.05-1) ...\n",
            "Selecting previously unselected package libfftw3-single3:amd64.\n",
            "Preparing to unpack .../040-libfftw3-single3_3.3.7-1_amd64.deb ...\n",
            "Unpacking libfftw3-single3:amd64 (3.3.7-1) ...\n",
            "Selecting previously unselected package libtimedate-perl.\n",
            "Preparing to unpack .../041-libtimedate-perl_2.3000-2_all.deb ...\n",
            "Unpacking libtimedate-perl (2.3000-2) ...\n",
            "Selecting previously unselected package libhttp-date-perl.\n",
            "Preparing to unpack .../042-libhttp-date-perl_6.02-1_all.deb ...\n",
            "Unpacking libhttp-date-perl (6.02-1) ...\n",
            "Selecting previously unselected package libfile-listing-perl.\n",
            "Preparing to unpack .../043-libfile-listing-perl_6.04-1_all.deb ...\n",
            "Unpacking libfile-listing-perl (6.04-1) ...\n",
            "Selecting previously unselected package libfltk1.3:amd64.\n",
            "Preparing to unpack .../044-libfltk1.3_1.3.4-6_amd64.deb ...\n",
            "Unpacking libfltk1.3:amd64 (1.3.4-6) ...\n",
            "Selecting previously unselected package libfltk-gl1.3:amd64.\n",
            "Preparing to unpack .../045-libfltk-gl1.3_1.3.4-6_amd64.deb ...\n",
            "Unpacking libfltk-gl1.3:amd64 (1.3.4-6) ...\n",
            "Selecting previously unselected package libfont-afm-perl.\n",
            "Preparing to unpack .../046-libfont-afm-perl_1.20-2_all.deb ...\n",
            "Unpacking libfont-afm-perl (1.20-2) ...\n",
            "Selecting previously unselected package libgail18:amd64.\n",
            "Preparing to unpack .../047-libgail18_2.24.32-1ubuntu1_amd64.deb ...\n",
            "Unpacking libgail18:amd64 (2.24.32-1ubuntu1) ...\n",
            "Selecting previously unselected package libgail-common:amd64.\n",
            "Preparing to unpack .../048-libgail-common_2.24.32-1ubuntu1_amd64.deb ...\n",
            "Unpacking libgail-common:amd64 (2.24.32-1ubuntu1) ...\n",
            "Selecting previously unselected package libglpk40:amd64.\n",
            "Preparing to unpack .../049-libglpk40_4.65-1_amd64.deb ...\n",
            "Unpacking libglpk40:amd64 (4.65-1) ...\n",
            "Selecting previously unselected package libwmf0.2-7:amd64.\n",
            "Preparing to unpack .../050-libwmf0.2-7_0.2.8.4-12_amd64.deb ...\n",
            "Unpacking libwmf0.2-7:amd64 (0.2.8.4-12) ...\n",
            "Selecting previously unselected package libgraphicsmagick-q16-3.\n",
            "Preparing to unpack .../051-libgraphicsmagick-q16-3_1.3.28-2ubuntu0.1_amd64.deb ...\n",
            "Unpacking libgraphicsmagick-q16-3 (1.3.28-2ubuntu0.1) ...\n",
            "Selecting previously unselected package libgraphicsmagick++-q16-12.\n",
            "Preparing to unpack .../052-libgraphicsmagick++-q16-12_1.3.28-2ubuntu0.1_amd64.deb ...\n",
            "Unpacking libgraphicsmagick++-q16-12 (1.3.28-2ubuntu0.1) ...\n",
            "Selecting previously unselected package libgtk2.0-bin.\n",
            "Preparing to unpack .../053-libgtk2.0-bin_2.24.32-1ubuntu1_amd64.deb ...\n",
            "Unpacking libgtk2.0-bin (2.24.32-1ubuntu1) ...\n",
            "Selecting previously unselected package libhtml-tagset-perl.\n",
            "Preparing to unpack .../054-libhtml-tagset-perl_3.20-3_all.deb ...\n",
            "Unpacking libhtml-tagset-perl (3.20-3) ...\n",
            "Selecting previously unselected package liburi-perl.\n",
            "Preparing to unpack .../055-liburi-perl_1.73-1_all.deb ...\n",
            "Unpacking liburi-perl (1.73-1) ...\n",
            "Selecting previously unselected package libhtml-parser-perl.\n",
            "Preparing to unpack .../056-libhtml-parser-perl_3.72-3build1_amd64.deb ...\n",
            "Unpacking libhtml-parser-perl (3.72-3build1) ...\n",
            "Selecting previously unselected package libio-html-perl.\n",
            "Preparing to unpack .../057-libio-html-perl_1.001-1_all.deb ...\n",
            "Unpacking libio-html-perl (1.001-1) ...\n",
            "Selecting previously unselected package liblwp-mediatypes-perl.\n",
            "Preparing to unpack .../058-liblwp-mediatypes-perl_6.02-1_all.deb ...\n",
            "Unpacking liblwp-mediatypes-perl (6.02-1) ...\n",
            "Selecting previously unselected package libhttp-message-perl.\n",
            "Preparing to unpack .../059-libhttp-message-perl_6.14-1_all.deb ...\n",
            "Unpacking libhttp-message-perl (6.14-1) ...\n",
            "Selecting previously unselected package libhtml-form-perl.\n",
            "Preparing to unpack .../060-libhtml-form-perl_6.03-1_all.deb ...\n",
            "Unpacking libhtml-form-perl (6.03-1) ...\n",
            "Selecting previously unselected package libhtml-tree-perl.\n",
            "Preparing to unpack .../061-libhtml-tree-perl_5.07-1_all.deb ...\n",
            "Unpacking libhtml-tree-perl (5.07-1) ...\n",
            "Selecting previously unselected package libhtml-format-perl.\n",
            "Preparing to unpack .../062-libhtml-format-perl_2.12-1_all.deb ...\n",
            "Unpacking libhtml-format-perl (2.12-1) ...\n",
            "Selecting previously unselected package libhttp-cookies-perl.\n",
            "Preparing to unpack .../063-libhttp-cookies-perl_6.04-1_all.deb ...\n",
            "Unpacking libhttp-cookies-perl (6.04-1) ...\n",
            "Selecting previously unselected package libhttp-daemon-perl.\n",
            "Preparing to unpack .../064-libhttp-daemon-perl_6.01-1_all.deb ...\n",
            "Unpacking libhttp-daemon-perl (6.01-1) ...\n",
            "Selecting previously unselected package libhttp-negotiate-perl.\n",
            "Preparing to unpack .../065-libhttp-negotiate-perl_6.00-2_all.deb ...\n",
            "Unpacking libhttp-negotiate-perl (6.00-2) ...\n",
            "Selecting previously unselected package perl-openssl-defaults:amd64.\n",
            "Preparing to unpack .../066-perl-openssl-defaults_3build1_amd64.deb ...\n",
            "Unpacking perl-openssl-defaults:amd64 (3build1) ...\n",
            "Selecting previously unselected package libnet-ssleay-perl.\n",
            "Preparing to unpack .../067-libnet-ssleay-perl_1.84-1ubuntu0.2_amd64.deb ...\n",
            "Unpacking libnet-ssleay-perl (1.84-1ubuntu0.2) ...\n",
            "Selecting previously unselected package libio-socket-ssl-perl.\n",
            "Preparing to unpack .../068-libio-socket-ssl-perl_2.060-3~ubuntu18.04.1_all.deb ...\n",
            "Unpacking libio-socket-ssl-perl (2.060-3~ubuntu18.04.1) ...\n",
            "Selecting previously unselected package libnet-http-perl.\n",
            "Preparing to unpack .../069-libnet-http-perl_6.17-1_all.deb ...\n",
            "Unpacking libnet-http-perl (6.17-1) ...\n",
            "Selecting previously unselected package libtry-tiny-perl.\n",
            "Preparing to unpack .../070-libtry-tiny-perl_0.30-1_all.deb ...\n",
            "Unpacking libtry-tiny-perl (0.30-1) ...\n",
            "Selecting previously unselected package libwww-robotrules-perl.\n",
            "Preparing to unpack .../071-libwww-robotrules-perl_6.01-1_all.deb ...\n",
            "Unpacking libwww-robotrules-perl (6.01-1) ...\n",
            "Selecting previously unselected package libwww-perl.\n",
            "Preparing to unpack .../072-libwww-perl_6.31-1ubuntu0.1_all.deb ...\n",
            "Unpacking libwww-perl (6.31-1ubuntu0.1) ...\n",
            "Selecting previously unselected package liblwp-protocol-https-perl.\n",
            "Preparing to unpack .../073-liblwp-protocol-https-perl_6.07-2_all.deb ...\n",
            "Unpacking liblwp-protocol-https-perl (6.07-2) ...\n",
            "Selecting previously unselected package libmagick++-6.q16-7:amd64.\n",
            "Preparing to unpack .../074-libmagick++-6.q16-7_8%3a6.9.7.4+dfsg-16ubuntu6.13_amd64.deb ...\n",
            "Unpacking libmagick++-6.q16-7:amd64 (8:6.9.7.4+dfsg-16ubuntu6.13) ...\n",
            "Selecting previously unselected package libnet-smtp-ssl-perl.\n",
            "Preparing to unpack .../075-libnet-smtp-ssl-perl_1.04-1_all.deb ...\n",
            "Unpacking libnet-smtp-ssl-perl (1.04-1) ...\n",
            "Selecting previously unselected package libmailtools-perl.\n",
            "Preparing to unpack .../076-libmailtools-perl_2.18-1_all.deb ...\n",
            "Unpacking libmailtools-perl (2.18-1) ...\n",
            "Selecting previously unselected package libqrupdate1:amd64.\n",
            "Preparing to unpack .../077-libqrupdate1_1.1.2-2build1_amd64.deb ...\n",
            "Unpacking libqrupdate1:amd64 (1.1.2-2build1) ...\n",
            "Selecting previously unselected package libumfpack5:amd64.\n",
            "Preparing to unpack .../078-libumfpack5_1%3a5.1.2-2_amd64.deb ...\n",
            "Unpacking libumfpack5:amd64 (1:5.1.2-2) ...\n",
            "Selecting previously unselected package liboctave4:amd64.\n",
            "Preparing to unpack .../079-liboctave4_4.2.2-1ubuntu1_amd64.deb ...\n",
            "Unpacking liboctave4:amd64 (4.2.2-1ubuntu1) ...\n",
            "Selecting previously unselected package libplot2c2:amd64.\n",
            "Preparing to unpack .../080-libplot2c2_2.6-9_amd64.deb ...\n",
            "Unpacking libplot2c2:amd64 (2.6-9) ...\n",
            "Selecting previously unselected package libportaudio2:amd64.\n",
            "Preparing to unpack .../081-libportaudio2_19.6.0-1_amd64.deb ...\n",
            "Unpacking libportaudio2:amd64 (19.6.0-1) ...\n",
            "Selecting previously unselected package libzip4:amd64.\n",
            "Preparing to unpack .../082-libzip4_1.1.2-1.1_amd64.deb ...\n",
            "Unpacking libzip4:amd64 (1.1.2-1.1) ...\n",
            "Selecting previously unselected package libpstoedit0c2a.\n",
            "Preparing to unpack .../083-libpstoedit0c2a_3.70-5_amd64.deb ...\n",
            "Unpacking libpstoedit0c2a (3.70-5) ...\n",
            "Selecting previously unselected package libqscintilla2-qt5-l10n.\n",
            "Preparing to unpack .../084-libqscintilla2-qt5-l10n_2.10.2+dfsg-4_all.deb ...\n",
            "Unpacking libqscintilla2-qt5-l10n (2.10.2+dfsg-4) ...\n",
            "Selecting previously unselected package libqscintilla2-qt5-13.\n",
            "Preparing to unpack .../085-libqscintilla2-qt5-13_2.10.2+dfsg-4_amd64.deb ...\n",
            "Unpacking libqscintilla2-qt5-13 (2.10.2+dfsg-4) ...\n",
            "Selecting previously unselected package libqt5opengl5:amd64.\n",
            "Preparing to unpack .../086-libqt5opengl5_5.9.5+dfsg-0ubuntu2.6_amd64.deb ...\n",
            "Unpacking libqt5opengl5:amd64 (5.9.5+dfsg-0ubuntu2.6) ...\n",
            "Selecting previously unselected package libtext-unidecode-perl.\n",
            "Preparing to unpack .../087-libtext-unidecode-perl_1.30-1_all.deb ...\n",
            "Unpacking libtext-unidecode-perl (1.30-1) ...\n",
            "Selecting previously unselected package libxml-namespacesupport-perl.\n",
            "Preparing to unpack .../088-libxml-namespacesupport-perl_1.12-1_all.deb ...\n",
            "Unpacking libxml-namespacesupport-perl (1.12-1) ...\n",
            "Selecting previously unselected package libxml-sax-base-perl.\n",
            "Preparing to unpack .../089-libxml-sax-base-perl_1.09-1_all.deb ...\n",
            "Unpacking libxml-sax-base-perl (1.09-1) ...\n",
            "Selecting previously unselected package libxml-sax-perl.\n",
            "Preparing to unpack .../090-libxml-sax-perl_0.99+dfsg-2ubuntu1_all.deb ...\n",
            "Unpacking libxml-sax-perl (0.99+dfsg-2ubuntu1) ...\n",
            "Selecting previously unselected package libxml-libxml-perl.\n",
            "Preparing to unpack .../091-libxml-libxml-perl_2.0128+dfsg-5_amd64.deb ...\n",
            "Unpacking libxml-libxml-perl (2.0128+dfsg-5) ...\n",
            "Selecting previously unselected package libxml-parser-perl.\n",
            "Preparing to unpack .../092-libxml-parser-perl_2.44-2build3_amd64.deb ...\n",
            "Unpacking libxml-parser-perl (2.44-2build3) ...\n",
            "Selecting previously unselected package libxml-sax-expat-perl.\n",
            "Preparing to unpack .../093-libxml-sax-expat-perl_0.40-2_all.deb ...\n",
            "Unpacking libxml-sax-expat-perl (0.40-2) ...\n",
            "Selecting previously unselected package notification-daemon.\n",
            "Preparing to unpack .../094-notification-daemon_3.20.0-3_amd64.deb ...\n",
            "Unpacking notification-daemon (3.20.0-3) ...\n",
            "Selecting previously unselected package pstoedit.\n",
            "Preparing to unpack .../095-pstoedit_3.70-5_amd64.deb ...\n",
            "Unpacking pstoedit (3.70-5) ...\n",
            "Selecting previously unselected package texinfo.\n",
            "Preparing to unpack .../096-texinfo_6.5.0.dfsg.1-2_amd64.deb ...\n",
            "Unpacking texinfo (6.5.0.dfsg.1-2) ...\n",
            "Selecting previously unselected package libauthen-sasl-perl.\n",
            "Preparing to unpack .../097-libauthen-sasl-perl_2.1600-1_all.deb ...\n",
            "Unpacking libauthen-sasl-perl (2.1600-1) ...\n",
            "Selecting previously unselected package libosmesa6:amd64.\n",
            "Preparing to unpack .../098-libosmesa6_20.0.8-0ubuntu1~18.04.1_amd64.deb ...\n",
            "Unpacking libosmesa6:amd64 (20.0.8-0ubuntu1~18.04.1) ...\n",
            "Selecting previously unselected package octave-common.\n",
            "Preparing to unpack .../099-octave-common_4.2.2-1ubuntu1_all.deb ...\n",
            "Unpacking octave-common (4.2.2-1ubuntu1) ...\n",
            "Selecting previously unselected package octave.\n",
            "Preparing to unpack .../100-octave_4.2.2-1ubuntu1_amd64.deb ...\n",
            "Unpacking octave (4.2.2-1ubuntu1) ...\n",
            "Selecting previously unselected package octave-doc.\n",
            "Preparing to unpack .../101-octave-doc_4.2.2-1ubuntu1_all.deb ...\n",
            "Unpacking octave-doc (4.2.2-1ubuntu1) ...\n",
            "Setting up libgs9-common (9.26~dfsg+0-0ubuntu0.18.04.16) ...\n",
            "Setting up libhtml-tagset-perl (3.20-3) ...\n",
            "Setting up imagemagick-6-common (8:6.9.7.4+dfsg-16ubuntu6.13) ...\n",
            "Setting up libnotify4:amd64 (0.7.7-3) ...\n",
            "Setting up libcxsparse3:amd64 (1:5.1.2-2) ...\n",
            "Setting up libtry-tiny-perl (0.30-1) ...\n",
            "Setting up fonts-droid-fallback (1:6.0.1r16-1.1) ...\n",
            "Setting up libfont-afm-perl (1.20-2) ...\n",
            "Setting up libgtk2.0-common (2.24.32-1ubuntu1) ...\n",
            "Setting up info (6.5.0.dfsg.1-2) ...\n",
            "update-alternatives: using /usr/bin/info to provide /usr/bin/infobrowser (infobrowser) in auto mode\n",
            "Setting up libportaudio2:amd64 (19.6.0-1) ...\n",
            "Setting up tex-common (6.09) ...\n",
            "update-language: texlive-base not installed and configured, doing nothing!\n",
            "Setting up libxml-namespacesupport-perl (1.12-1) ...\n",
            "Setting up gsfonts (1:8.11+urwcyr1.0.7~pre44-4.4) ...\n",
            "Setting up libencode-locale-perl (1.05-1) ...\n",
            "Setting up libtimedate-perl (2.3000-2) ...\n",
            "Setting up poppler-data (0.4.8-2) ...\n",
            "Setting up perl-openssl-defaults:amd64 (3build1) ...\n",
            "Setting up libosmesa6:amd64 (20.0.8-0ubuntu1~18.04.1) ...\n",
            "Setting up libio-html-perl (1.001-1) ...\n",
            "Setting up libtext-unidecode-perl (1.30-1) ...\n",
            "Setting up libqt5opengl5:amd64 (5.9.5+dfsg-0ubuntu2.6) ...\n",
            "Setting up fonts-noto-mono (20171026-2) ...\n",
            "Setting up libwxbase3.0-0v5:amd64 (3.0.4+dfsg-3) ...\n",
            "Setting up libqrupdate1:amd64 (1.1.2-2build1) ...\n",
            "Setting up libcupsfilters1:amd64 (1.20.2-0ubuntu3.1) ...\n",
            "Setting up libzip4:amd64 (1.1.2-1.1) ...\n",
            "Setting up libcupsimage2:amd64 (2.2.7-1ubuntu2.9) ...\n",
            "Setting up libxml-sax-base-perl (1.09-1) ...\n",
            "Setting up liblqr-1-0:amd64 (0.4.2-2.1) ...\n",
            "Setting up libjbig2dec0:amd64 (0.13-6) ...\n",
            "Setting up liblwp-mediatypes-perl (6.02-1) ...\n",
            "Setting up liburi-perl (1.73-1) ...\n",
            "Setting up libqt5svg5:amd64 (5.9.5-0ubuntu1.1) ...\n",
            "Setting up libsuitesparseconfig5:amd64 (1:5.1.2-2) ...\n",
            "Setting up libmetis5:amd64 (5.1.0.dfsg-5) ...\n",
            "Setting up libdata-dump-perl (1.23-1) ...\n",
            "Setting up libhtml-parser-perl (3.72-3build1) ...\n",
            "Setting up libijs-0.35:amd64 (0.35-13) ...\n",
            "Setting up libcolamd2:amd64 (1:5.1.2-2) ...\n",
            "Setting up libfltk1.3:amd64 (1.3.4-6) ...\n",
            "Setting up libccolamd2:amd64 (1:5.1.2-2) ...\n",
            "Setting up libfftw3-single3:amd64 (3.3.7-1) ...\n",
            "Setting up octave-common (4.2.2-1ubuntu1) ...\n",
            "Setting up libnet-http-perl (6.17-1) ...\n",
            "Setting up libqscintilla2-qt5-l10n (2.10.2+dfsg-4) ...\n",
            "Setting up libemf1:amd64 (1.0.9+git.10.3231442-1) ...\n",
            "Setting up aglfn (1.7-3) ...\n",
            "Setting up libplot2c2:amd64 (2.6-9) ...\n",
            "Setting up liblua5.3-0:amd64 (5.3.3-1ubuntu0.18.04.1) ...\n",
            "Setting up libgs9:amd64 (9.26~dfsg+0-0ubuntu0.18.04.16) ...\n",
            "Setting up libwmf0.2-7:amd64 (0.2.8.4-12) ...\n",
            "Setting up libwww-robotrules-perl (6.01-1) ...\n",
            "Setting up libauthen-sasl-perl (2.1600-1) ...\n",
            "Setting up notification-daemon (3.20.0-3) ...\n",
            "Setting up octave-doc (4.2.2-1ubuntu1) ...\n",
            "Setting up netbase (5.4) ...\n",
            "Setting up libxml-sax-perl (0.99+dfsg-2ubuntu1) ...\n",
            "update-perl-sax-parsers: Registering Perl SAX parser XML::SAX::PurePerl with priority 10...\n",
            "update-perl-sax-parsers: Updating overall Perl SAX parser modules info file...\n",
            "\n",
            "Creating config file /etc/perl/XML/SAX/ParserDetails.ini with new version\n",
            "Setting up libgtk2.0-0:amd64 (2.24.32-1ubuntu1) ...\n",
            "Setting up libhttp-date-perl (6.02-1) ...\n",
            "Setting up libmagickcore-6.q16-3:amd64 (8:6.9.7.4+dfsg-16ubuntu6.13) ...\n",
            "Setting up libgail18:amd64 (2.24.32-1ubuntu1) ...\n",
            "Setting up libnet-ssleay-perl (1.84-1ubuntu0.2) ...\n",
            "Setting up libfltk-gl1.3:amd64 (1.3.4-6) ...\n",
            "Setting up libcamd2:amd64 (1:5.1.2-2) ...\n",
            "Setting up libqscintilla2-qt5-13 (2.10.2+dfsg-4) ...\n",
            "Setting up libwxgtk3.0-0v5:amd64 (3.0.4+dfsg-3) ...\n",
            "Setting up libgail-common:amd64 (2.24.32-1ubuntu1) ...\n",
            "Setting up ghostscript (9.26~dfsg+0-0ubuntu0.18.04.16) ...\n",
            "Setting up gnuplot-data (5.2.2+dfsg1-2ubuntu1) ...\n",
            "Setting up libio-socket-ssl-perl (2.060-3~ubuntu18.04.1) ...\n",
            "Setting up libgraphicsmagick-q16-3 (1.3.28-2ubuntu0.1) ...\n",
            "Setting up libhtml-tree-perl (5.07-1) ...\n",
            "Setting up libamd2:amd64 (1:5.1.2-2) ...\n",
            "Setting up libmagickwand-6.q16-3:amd64 (8:6.9.7.4+dfsg-16ubuntu6.13) ...\n",
            "Setting up libfile-listing-perl (6.04-1) ...\n",
            "Setting up libhttp-message-perl (6.14-1) ...\n",
            "Setting up libxml-libxml-perl (2.0128+dfsg-5) ...\n",
            "update-perl-sax-parsers: Registering Perl SAX parser XML::LibXML::SAX::Parser with priority 50...\n",
            "update-perl-sax-parsers: Registering Perl SAX parser XML::LibXML::SAX with priority 50...\n",
            "update-perl-sax-parsers: Updating overall Perl SAX parser modules info file...\n",
            "Replacing config file /etc/perl/XML/SAX/ParserDetails.ini with new version\n",
            "Setting up libhttp-negotiate-perl (6.00-2) ...\n",
            "Setting up libgtk2.0-bin (2.24.32-1ubuntu1) ...\n",
            "Setting up libgraphicsmagick++-q16-12 (1.3.28-2ubuntu0.1) ...\n",
            "Setting up libnet-smtp-ssl-perl (1.04-1) ...\n",
            "Setting up libhtml-format-perl (2.12-1) ...\n",
            "Setting up libglpk40:amd64 (4.65-1) ...\n",
            "Setting up libhttp-cookies-perl (6.04-1) ...\n",
            "Setting up gnuplot-qt (5.2.2+dfsg1-2ubuntu1) ...\n",
            "update-alternatives: using /usr/bin/gnuplot-qt to provide /usr/bin/gnuplot (gnuplot) in auto mode\n",
            "Setting up epstool (3.08+repack-7) ...\n",
            "Setting up libhttp-daemon-perl (6.01-1) ...\n",
            "Setting up libcholmod3:amd64 (1:5.1.2-2) ...\n",
            "Setting up libmagick++-6.q16-7:amd64 (8:6.9.7.4+dfsg-16ubuntu6.13) ...\n",
            "Setting up libpstoedit0c2a (3.70-5) ...\n",
            "Setting up libhtml-form-perl (6.03-1) ...\n",
            "Setting up texinfo (6.5.0.dfsg.1-2) ...\n",
            "Setting up libmailtools-perl (2.18-1) ...\n",
            "Setting up libumfpack5:amd64 (1:5.1.2-2) ...\n",
            "Setting up pstoedit (3.70-5) ...\n",
            "Setting up liboctave4:amd64 (4.2.2-1ubuntu1) ...\n",
            "Setting up octave (4.2.2-1ubuntu1) ...\n",
            "Setting up liblwp-protocol-https-perl (6.07-2) ...\n",
            "Setting up libwww-perl (6.31-1ubuntu0.1) ...\n",
            "Setting up libxml-parser-perl (2.44-2build3) ...\n",
            "Setting up libxml-sax-expat-perl (0.40-2) ...\n",
            "update-perl-sax-parsers: Registering Perl SAX parser XML::SAX::Expat with priority 50...\n",
            "update-perl-sax-parsers: Updating overall Perl SAX parser modules info file...\n",
            "Replacing config file /etc/perl/XML/SAX/ParserDetails.ini with new version\n",
            "Processing triggers for fontconfig (2.12.6-0ubuntu2) ...\n",
            "Processing triggers for mime-support (3.60ubuntu1) ...\n",
            "Processing triggers for install-info (6.5.0.dfsg.1-2) ...\n",
            "Processing triggers for libc-bin (2.27-3ubuntu1.3) ...\n",
            "/sbin/ldconfig.real: /usr/local/lib/python3.7/dist-packages/ideep4py/lib/libmkldnn.so.0 is not a symbolic link\n",
            "\n",
            "Processing triggers for man-db (2.8.3-2ubuntu0.1) ...\n",
            "Processing triggers for hicolor-icon-theme (0.17-2) ...\n"
          ]
        }
      ]
    },
    {
      "cell_type": "code",
      "source": [
        "%pwd\n"
      ],
      "metadata": {
        "colab": {
          "base_uri": "https://localhost:8080/",
          "height": 35
        },
        "id": "HHovfKYq16Bf",
        "outputId": "929446f8-25a1-49d2-e076-37e588ec5f6f"
      },
      "execution_count": null,
      "outputs": [
        {
          "output_type": "execute_result",
          "data": {
            "text/plain": [
              "'/content/gdrive/MyDrive/Colab Notebooks/first trial/basics_for_infrared_detection/dataset'"
            ],
            "application/vnd.google.colaboratory.intrinsic+json": {
              "type": "string"
            }
          },
          "metadata": {},
          "execution_count": 10
        }
      ]
    },
    {
      "cell_type": "code",
      "source": [
        "#!cp -av '/gdrive/My Drive/FOLDER_PATH' '/gdrive/My Drive/DESTINATION_PATH\n",
        "\n",
        "# determine the file type of a file.\n",
        "#  see if it  is  empty or not\n",
        "\n",
        "#!ls -lh  \"LSOTB-TIR_TrainingData.part5.rar\"\n",
        "\n",
        "!unrar x  -kb -y  LSOTB-TIR_TrainingData.part5.rar  \n",
        "\n"
      ],
      "metadata": {
        "id": "vfGyQcDosLhV"
      },
      "execution_count": null,
      "outputs": []
    },
    {
      "cell_type": "code",
      "source": [
        "!octave -W run_for_part5_dataset.m"
      ],
      "metadata": {
        "id": "swF8rw21sKAG"
      },
      "execution_count": null,
      "outputs": []
    },
    {
      "cell_type": "code",
      "source": [
        "!pytho3 image_rename.py"
      ],
      "metadata": {
        "id": "LU53rSG1n9J4"
      },
      "execution_count": null,
      "outputs": []
    },
    {
      "cell_type": "code",
      "source": [
        "!python3 frame_to_video.py"
      ],
      "metadata": {
        "id": "OwFZaTFMozYO"
      },
      "execution_count": null,
      "outputs": []
    },
    {
      "cell_type": "code",
      "source": [
        "!python3 lsotb_to_coco.py"
      ],
      "metadata": {
        "id": "OJsj7SEcpAyS"
      },
      "execution_count": null,
      "outputs": []
    },
    {
      "cell_type": "code",
      "source": [
        "!python3 main_lsotb.py --dataset_file lotsb --data_path ../dataset/ --output_dir output --resume weights/detr-r50-e632da11.pth"
      ],
      "metadata": {
        "id": "6uULYZjPpDfW"
      },
      "execution_count": null,
      "outputs": []
    },
    {
      "cell_type": "code",
      "source": [
        "!python3  test.py    --dataset_file  lotsb    --data_path    ../dataset/LSOTB_val/images/   --output_dir  output    --resume    output/checkpoint.pth "
      ],
      "metadata": {
        "id": "r-tpCGu0qa5M"
      },
      "execution_count": null,
      "outputs": []
    },
    {
      "cell_type": "code",
      "source": [
        "#Semanctic segmentation"
      ],
      "metadata": {
        "id": "-hPYNmNVrAlI"
      },
      "execution_count": null,
      "outputs": []
    },
    {
      "cell_type": "code",
      "source": [
        "#tracking#bipartite matching"
      ],
      "metadata": {
        "id": "e4BSmdt0rIlH"
      },
      "execution_count": null,
      "outputs": []
    },
    {
      "cell_type": "code",
      "source": [
        "#loading full data from terabox"
      ],
      "metadata": {
        "id": "FhRZZ3KarSpI"
      },
      "execution_count": null,
      "outputs": []
    },
    {
      "cell_type": "code",
      "execution_count": null,
      "metadata": {
        "id": "cENzV_up8Ygn"
      },
      "outputs": [],
      "source": [
        "# https://pythonguides.com/download-zip-file-from-url-using-python/\n",
        "!pip install wget\n",
        "import wget\n",
        "url = 'https://www.terabox.com/sharing/link?surl=RFETNy0zHjvZPWXlgZNjgA&path=%2FLSOTB-TIR%2FTraining%20Dataset/LSOTB-TIR_TrainingData.part5.rar'\n",
        "wget.download(url)\n",
        "# or Method 2\n",
        "#!python -m wget 'https://www.terabox.com/sharing/link?surl=RFETNy0zHjvZPWXlgZNjgA&path=%2FLSOTB-TIR%2FTraining%20Dataset/LSOTB-TIR_TrainingData.part5.rar' -o '/content/dataset'"
      ]
    },
    {
      "cell_type": "code",
      "execution_count": null,
      "metadata": {
        "id": "xztaaS3i9u0f"
      },
      "outputs": [],
      "source": [
        "# Mehod 3\n",
        "!pip install requests\n",
        "# importing the requests module\n",
        "import requests\n",
        "print('Downloading started')\n",
        "url = 'https://www.terabox.com/sharing/link?surl=RFETNy0zHjvZPWXlgZNjgA&path=%2FLSOTB-TIR%2FTraining%20Dataset/LSOTB-TIR_TrainingData.part5.rar'\n",
        "\n",
        "# Downloading the file by sending the request to the URL\n",
        "req = requests.get(url)\n",
        " \n",
        "# Split URL to get the file name\n",
        "filename = url.split('/')[-1]\n",
        " \n",
        "# Writing the file to the local file system\n",
        "with open(filename,'wb') as output_file:\n",
        "    output_file.write(req.content)\n",
        "print('Downloading Completed')\n"
      ]
    },
    {
      "cell_type": "markdown",
      "source": [
        " you will learn how you can download and extract a zip file into your local file system.\n",
        "\n",
        "We will need three modules:\n",
        "\n",
        "       requests: To download the zip file\n",
        "       BytesIO: To read the file from the buffer\n",
        "       zipfile: To read and extract the zip file"
      ],
      "metadata": {
        "id": "cYpAtBOy5RZU"
      }
    },
    {
      "cell_type": "code",
      "execution_count": null,
      "metadata": {
        "id": "SI9EStvJBDCO"
      },
      "outputs": [],
      "source": [
        "# extracting the zip file contents\n",
        "# importing necessary modules\n",
        "import requests, zipfile\n",
        "from io import BytesIO\n",
        "print('Downloading started')\n",
        "\n",
        "#Defining the zip file URL\n",
        "url = 'https://www.learningcontainer.com/wp-content/uploads/2020/05/sample-zip-file.zip'\n",
        "\n",
        "\n",
        "# Split URL to get the file name\n",
        "filename = url.split('/')[-1]\n",
        "\n",
        "# Downloading the file by sending the request to the URL\n",
        "req = requests.get(url)\n",
        "print('Downloading Completed')\n",
        "\n",
        "# extracting the zip file contents\n",
        "# using the BytesIO function to read the zip file contents and store them in a variable in the zip format.\n",
        "zipfile= zipfile.ZipFile(BytesIO(req.content))\n",
        "zipfile.extractall('C:/Users/Blades/Downloads/NewFolder')"
      ]
    },
    {
      "cell_type": "code",
      "execution_count": null,
      "metadata": {
        "id": "73PE7Xsjf-xW"
      },
      "outputs": [],
      "source": [
        "import time\n",
        "from zipfile import ZipFile\n",
        "begin = time.time()\n",
        "zip_loc=\"sample-zip-file.zip\"\n",
        "with ZipFile(zip_loc, 'r') as zip:\n",
        "    print(\"available files in zip :\\n\")\n",
        "    zip.printdir()\n",
        "    print('\\nExtracting all the files now...')\n",
        "    zip.extractall()\n",
        "    print('Unzipping Done!')\n",
        "end = time.time()\n",
        "print(f\"\\nTotal runtime of this code block is {end - begin}\")"
      ]
    },
    {
      "cell_type": "code",
      "source": [
        "content=urllib2.urlopen(\"http://www.sdfagfa.org/asasg/a.zip\").read()\n",
        "#urllib.urlretrieve('http://x.x.x.x/library.zip','library.zip')\n",
        "#f=open(\"d:\\\\a.zip\",'a+',1)\n",
        "f=open(\"d:\\\\a.zip\",'wb')\n",
        "f.writelines(content)\n",
        "\n",
        "\n"
      ],
      "metadata": {
        "id": "I9YjjYqp6hfm"
      },
      "execution_count": null,
      "outputs": []
    },
    {
      "cell_type": "code",
      "source": [
        "import requests\n",
        "import os\n",
        "\n",
        "\n",
        "link = 'https://filebin.net/r3m0ll3uo8xvpb34/test.rar?t=p4cx324b'\n",
        "\n",
        "headers = {'User-Agent': 'Mozilla/5.0 (Windows NT 10.0; Win64; x64; rv:74.0) Gecko/20100101 Firefox/74.0'}\n",
        "data = requests.get(link, headers=headers)\n",
        "#with open('tmp.rar', 'w') as f:\n",
        "with open('tmp.rar', 'wb') as f:\n",
        "    f.write(data.content)\n",
        "# unrar('tmp.rar')\n",
        "os.remove('tmp.rar')"
      ],
      "metadata": {
        "id": "FuEUBoV37KZv"
      },
      "execution_count": null,
      "outputs": []
    },
    {
      "cell_type": "markdown",
      "source": [
        "https://www.codegrepper.com/code-examples/python/python+code+to+download+folder+from+url"
      ],
      "metadata": {
        "id": "G1RcFjF573KK"
      }
    },
    {
      "cell_type": "code",
      "source": [
        "import urllib.request\n",
        "pdf_path = \"\"\n",
        "def download_file(download_url, filename):\n",
        "    response = urllib.request.urlopen(download_url)    \n",
        "    file = open(filename + \".pdf\", 'wb')\n",
        "    file.write(response.read())\n",
        "    file.close()\n",
        " \n",
        "download_file(pdf_path, \"Test\")"
      ],
      "metadata": {
        "id": "TLem_6Q2793d"
      },
      "execution_count": null,
      "outputs": []
    },
    {
      "cell_type": "code",
      "source": [
        "import urllib2  # the lib that handles the url stuff\n",
        "\n",
        "data = urllib2.urlopen(target_url) # it's a file like object and works just like a file\n",
        "for line in data: # files are iterable\n",
        "    print line"
      ],
      "metadata": {
        "id": "Y5mN7eAL7_Pw"
      },
      "execution_count": null,
      "outputs": []
    },
    {
      "cell_type": "code",
      "execution_count": null,
      "metadata": {
        "id": "ZBl3qO6XGuy2"
      },
      "outputs": [],
      "source": [
        "!python -m pip install --upgrade pip setuptools wheel && python -m pip install lbry-libtorrent && apt install python3-libtorrent"
      ]
    },
    {
      "cell_type": "code",
      "execution_count": null,
      "metadata": {
        "id": "QFDHQVpMHOZE"
      },
      "outputs": [],
      "source": [
        "import libtorrent as lt\n",
        "import time\n",
        "import datetime\n",
        "\n",
        "def download_torrent():\n",
        "    ses = lt.session()\n",
        "    ses.listen_on(6881, 6891)\n",
        "    link = input(\"Input Torrent Link or Magnet and Press Enter: \")\n",
        "    print(link)\n",
        "\n",
        "    handle = lt.add_magnet_uri(ses, link, params)\n",
        "    # change the 0 to a 1 to download sequential - this sequential option is only if you selected zip. If not,\n",
        "    # scroll farther down.\n",
        "    handle.set_sequential_download(0)\n",
        "\n",
        "    ses.start_dht()\n",
        "    begin = time.time()\n",
        "    print(datetime.datetime.now())\n",
        "\n",
        "    print('Downloading Metadata...')\n",
        "    while not handle.has_metadata():\n",
        "        time.sleep(1)\n",
        "    print('Got Metadata, Starting Torrent Download...')\n",
        "\n",
        "    print(\"Starting\", handle.name())\n",
        "\n",
        "    while handle.status().state != lt.torrent_status.seeding:\n",
        "        s = handle.status()\n",
        "        state_str = ['queued', 'checking', 'downloading metadata',\n",
        "                     'downloading', 'finished', 'seeding', 'allocating']\n",
        "        print('%.2f%% complete (down: %.1f kb/s up: %.1f kB/s peers: %d) %s ' % \\\n",
        "              (s.progress * 100, s.download_rate / 1000, s.upload_rate / 1000, \\\n",
        "               s.num_peers, state_str[s.state]))\n",
        "        time.sleep(5)\n",
        "\n",
        "    end = time.time()\n",
        "    print(handle.name(), \"COMPLETE\")\n",
        "\n",
        "    print(\"Elapsed Time: \", int((end - begin) // 60), \"min :\", int((end - begin) % 60), \"sec\")\n",
        "\n",
        "    print(datetime.datetime.now())\n",
        "\n",
        "\n",
        "zipp = input(\"Input 'Y'/'y' to zip the torrent and place it in your drive. Otherwise, leave blank. \")\n",
        "\n",
        "if zipp == 'Y' or zipp == 'y':\n",
        "    zip_name = input(\"Input name you would like for the zip file: \")\n",
        "    import shutil\n",
        "\n",
        "    params = {\n",
        "        'save_path': '/content/temp/',\n",
        "        'storage_mode': lt.storage_mode_t(2),\n",
        "    }\n",
        "    download_torrent()\n",
        "\n",
        "    print(\"now time to zip\")\n",
        "\n",
        "    print(\"Zipping ...\")\n",
        "    final_zip_directory = '/content/drive/MyDrive/Torrent/' + zip_name\n",
        "    shutil.make_archive(final_zip_directory, 'zip', '/content/temp/')\n",
        "    shutil.rmtree('/content/temp/')\n",
        "\n",
        "else:\n",
        "    params = {\n",
        "        'save_path': '/content/drive/MyDrive/Torrent/',\n",
        "        'storage_mode': lt.storage_mode_t(2),\n",
        "    }\n",
        "    download_torrent()\n",
        "\n",
        "print('\\nALL DONE!')"
      ]
    },
    {
      "cell_type": "markdown",
      "metadata": {
        "id": "bL3CaAawgTha"
      },
      "source": [
        "\n"
      ]
    },
    {
      "cell_type": "markdown",
      "metadata": {
        "id": "W0GWm8n0Vvqh"
      },
      "source": [
        ""
      ]
    },
    {
      "cell_type": "code",
      "execution_count": null,
      "metadata": {
        "id": "NzfY_PBTmRLe"
      },
      "outputs": [],
      "source": [
        "!pip install internetarchive \n",
        "from internetarchive import get_item\n",
        "\n",
        "#creating session for upload\n",
        "from internetarchive import get_session\n",
        "\n",
        "#------ change these parameters as shown in above out field or got this url https://archive.org/account/s3.php after login\n",
        "access = 'ouma'\n",
        "secret = 'testlsotb'\n",
        "#----------------------------\n",
        "\n",
        "c = {'s3': {'access': access, 'secret': secret}}\n",
        "session = get_session(config=c, allowed_methods= Retry.DEFAULT_ALLOWED_METHODS )\n",
        "print(session)\n",
        "cool_podcast = get_item('my_007')       #this identifier is important, you need to init identifier before upload\n",
        "print(cool_podcast.metadata)"
      ]
    },
    {
      "cell_type": "code",
      "execution_count": null,
      "metadata": {
        "colab": {
          "base_uri": "https://localhost:8080/"
        },
        "id": "kGumtIYL-bWO",
        "outputId": "9652500c-b769-47ff-8f9a-228e445555ab"
      },
      "outputs": [
        {
          "name": "stdout",
          "output_type": "stream",
          "text": [
            "Looking in indexes: https://pypi.org/simple, https://us-python.pkg.dev/colab-wheels/public/simple/\n",
            "Requirement already satisfied: requests in /usr/local/lib/python3.7/dist-packages (2.23.0)\n",
            "Requirement already satisfied: chardet<4,>=3.0.2 in /usr/local/lib/python3.7/dist-packages (from requests) (3.0.4)\n",
            "Requirement already satisfied: urllib3!=1.25.0,!=1.25.1,<1.26,>=1.21.1 in /usr/local/lib/python3.7/dist-packages (from requests) (1.24.3)\n",
            "Requirement already satisfied: idna<3,>=2.5 in /usr/local/lib/python3.7/dist-packages (from requests) (2.10)\n",
            "Requirement already satisfied: certifi>=2017.4.17 in /usr/local/lib/python3.7/dist-packages (from requests) (2022.6.15)\n"
          ]
        }
      ],
      "source": [
        "!pip install requests"
      ]
    },
    {
      "cell_type": "code",
      "execution_count": null,
      "metadata": {
        "id": "Rv_AL0mACzNE"
      },
      "outputs": [],
      "source": [
        "\n",
        "!wget https://www.terabox.com/sharing/link?surl=RFETNy0zHjvZPWXlgZNjgA&path=%2FLSOTB-TIR%2FTraining%20Dataset/LSOTB-TIR_TrainingData.part5.rar\n",
        "\n",
        "\n",
        "url = 'https://www.terabox.com/sharing/link?surl=RFETNy0zHjvZPWXlgZNjgA&path=%2FLSOTB-TIR%2FTraining%20Dataset/LSOTB-TIR_TrainingData.part5.rar'\n",
        "\n",
        "\n",
        "\n"
      ]
    },
    {
      "cell_type": "code",
      "execution_count": null,
      "metadata": {
        "colab": {
          "base_uri": "https://localhost:8080/"
        },
        "id": "YoBmt52JfwaJ",
        "outputId": "f42b746c-ef33-4a37-f8f5-036ec1f08f3c"
      },
      "outputs": [
        {
          "name": "stdout",
          "output_type": "stream",
          "text": [
            "Looking in indexes: https://pypi.org/simple, https://us-python.pkg.dev/colab-wheels/public/simple/\n",
            "Collecting unrar\n",
            "  Downloading unrar-0.4-py3-none-any.whl (25 kB)\n",
            "Installing collected packages: unrar\n",
            "Successfully installed unrar-0.4\n"
          ]
        }
      ],
      "source": [
        "!pip install unrar"
      ]
    },
    {
      "cell_type": "code",
      "execution_count": null,
      "metadata": {
        "id": "fa6Txr2BZgGQ"
      },
      "outputs": [],
      "source": [
        "import requests\n",
        "import urllib.request\n",
        "import os\n",
        "\n",
        "#url = 'https://www.terabox.com/sharing/link?surl=RFETNy0zHjvZPWXlgZNjgA&path=%2FLSOTB-TIR%2FTraining%20Dataset'\n",
        "url = 'https://www.terabox.com/sharing/link?surl=RFETNy0zHjvZPWXlgZNjgA&path=%2FLSOTB-TIR%2FTraining%20Dataset/LSOTB-TIR_TrainingData.part5.rar'\n",
        "data= requests.get(url, stream=True)\n",
        "data.content\n",
        "#urllib.request.urlretrieve('https://www.terabox.com/sharing/link?surl=RFETNy0zHjvZPWXlgZNjgA&path=%2FLSOTB-TIR%2FTraining%20Dataset', 'LSOTB-TIR_TrainingData.part5.rar')\n",
        "with open('tmp.rar', 'w') as f:\n",
        "     f.write(data.content)\n",
        "\n",
        "\n",
        "\n"
      ]
    },
    {
      "cell_type": "code",
      "execution_count": null,
      "metadata": {
        "id": "ibvAPRLsu5oA"
      },
      "outputs": [],
      "source": [
        "\n",
        "import urllib.request\n",
        "import os\n",
        "data= urllib.request.urlretrieve('https://www.terabox.com/sharing/link?surl=RFETNy0zHjvZPWXlgZNjgA&path=%2FLSOTB-TIR%2FTraining%20Dataset/LSOTB-TIR_TrainingData.part5.rar', 'LSOTB-TIR_TrainingData.part5.rar')\n",
        "\n"
      ]
    },
    {
      "cell_type": "code",
      "execution_count": null,
      "metadata": {
        "id": "WmIHE35Ew6_0"
      },
      "outputs": [],
      "source": [
        "!pip install patool\n",
        "import patoolib\n",
        "patoolib.extract_archive(\"LSOTB-TIR_TrainingData.part5.rar\", outdir=os. getcwd())"
      ]
    },
    {
      "cell_type": "markdown",
      "source": [
        "Downloading Datasets into Google Drive via Google Colab:\n",
        "\n",
        "\n",
        "1.   Mounting the Google Drive to Google Colab\n",
        "2.   Downloading the dataset directly to Google Drive via Google Colab\n",
        "          . with the use of Kaggle API;\n",
        "          . from competition website which username and password is required while requesting to download"
      ],
      "metadata": {
        "id": "F93SbNdpG1IQ"
      }
    },
    {
      "cell_type": "code",
      "source": [
        "root_path = '/content/gdrive/My Drive/your_project_folder/'"
      ],
      "metadata": {
        "id": "SMalOCodHxvh"
      },
      "execution_count": null,
      "outputs": []
    },
    {
      "cell_type": "code",
      "source": [
        "from google.colab import files\n",
        "files.upload()  #this will prompt you to upload the kaggle.json"
      ],
      "metadata": {
        "colab": {
          "resources": {
            "http://localhost:8080/nbextensions/google.colab/files.js": {
              "data": "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",
              "ok": true,
              "headers": [
                [
                  "content-type",
                  "application/javascript"
                ]
              ],
              "status": 200,
              "status_text": ""
            }
          },
          "base_uri": "https://localhost:8080/",
          "height": 90
        },
        "id": "9WN9FYb0LR20",
        "outputId": "72dd6abd-3b4e-4075-aba3-efd524d20610"
      },
      "execution_count": null,
      "outputs": [
        {
          "output_type": "display_data",
          "data": {
            "text/plain": [
              "<IPython.core.display.HTML object>"
            ],
            "text/html": [
              "\n",
              "     <input type=\"file\" id=\"files-e80e1028-42d9-4aed-b69e-98abe4d8401e\" name=\"files[]\" multiple disabled\n",
              "        style=\"border:none\" />\n",
              "     <output id=\"result-e80e1028-42d9-4aed-b69e-98abe4d8401e\">\n",
              "      Upload widget is only available when the cell has been executed in the\n",
              "      current browser session. Please rerun this cell to enable.\n",
              "      </output>\n",
              "      <script src=\"/nbextensions/google.colab/files.js\"></script> "
            ]
          },
          "metadata": {}
        },
        {
          "output_type": "stream",
          "name": "stdout",
          "text": [
            "Saving kaggle.json to kaggle.json\n"
          ]
        },
        {
          "output_type": "execute_result",
          "data": {
            "text/plain": [
              "{'kaggle.json': b'{\"username\":\"oumaymaghn\",\"key\":\"95c00c286bb05314af1203c6ace503c5\"}'}"
            ]
          },
          "metadata": {},
          "execution_count": 3
        }
      ]
    },
    {
      "cell_type": "markdown",
      "source": [
        "kaggle.json(application/json) - 66 bytes, last modified: 23/07/2022 - 100% done\n",
        "Saving kaggle.json to kaggle.json\n",
        "{'kaggle.json': b'{\"username\":\"oumaymaghn\",\"key\":\"95c00c286bb05314af1203c6ace503c5\"}'}"
      ],
      "metadata": {
        "id": "aKnMJGomLfKv"
      }
    },
    {
      "cell_type": "code",
      "source": [
        "!pip install -q kaggle\n",
        "!mkdir -p ~/.kaggle\n",
        "!cp kaggle.json ~/.kaggle/\n",
        "!ls ~/.kaggle\n",
        "!chmod 600 /root/.kaggle/kaggle.json  # set permission"
      ],
      "metadata": {
        "colab": {
          "base_uri": "https://localhost:8080/"
        },
        "id": "tHag3GZMLhCS",
        "outputId": "2f033d7c-e0b7-4c32-a8ec-5157f5ace1a1"
      },
      "execution_count": null,
      "outputs": [
        {
          "output_type": "stream",
          "name": "stdout",
          "text": [
            "kaggle.json\n"
          ]
        }
      ]
    },
    {
      "cell_type": "code",
      "source": [
        "#!kaggle datasets download  -d Thermal-Infrared-Object-Tracking-Benchmark \n",
        "#!kaggle datasets download  -d   QIAO-LIU/Thermal-Infrared-Object-Tracking-Benchmark\n",
        "#!kaggle datasets list \n",
        "!kaggle datasets download -d  QIAO-LIU/FLSOTB-TIR    -p   root_path "
      ],
      "metadata": {
        "colab": {
          "base_uri": "https://localhost:8080/"
        },
        "id": "OuPe9V35NVVB",
        "outputId": "4777d175-e343-4594-f54b-9f005709087d"
      },
      "execution_count": null,
      "outputs": [
        {
          "output_type": "stream",
          "name": "stdout",
          "text": [
            "404 - Not Found\n"
          ]
        }
      ]
    },
    {
      "cell_type": "code",
      "source": [
        "!kaggle datasets list  -s thermal-infrared-object"
      ],
      "metadata": {
        "colab": {
          "base_uri": "https://localhost:8080/"
        },
        "id": "HVU2tn5dUaqS",
        "outputId": "087dd0a1-28a1-4a2a-b19a-e3a7cf4c3d27"
      },
      "execution_count": null,
      "outputs": [
        {
          "output_type": "stream",
          "name": "stdout",
          "text": [
            "ref                                                     title                                               size  lastUpdated          downloadCount  voteCount  usabilityRating  \n",
            "------------------------------------------------------  --------------------------------------------------  ----  -------------------  -------------  ---------  ---------------  \n",
            "liuqiaohit/thermal-infrared-object-tracking-benchmark   Thermal Infrared Object Tracking Benchmark           7MB  2021-10-18 10:32:49             34          3  0.4375           \n",
            "sujaradha/thermal-images-diseased-healthy-leaves-paddy  Thermal images - diseased & healthy leaves - paddy  44MB  2020-04-18 10:34:27            298         10  0.5              \n"
          ]
        }
      ]
    },
    {
      "cell_type": "markdown",
      "source": [
        "Download Dataset from competition website which username and password is required while requesting to download"
      ],
      "metadata": {
        "id": "YNeIS86RnJPC"
      }
    },
    {
      "cell_type": "code",
      "source": [
        "!wget --user=your_username --password=your_password http://cdn1.i3s.up.pt/digitalpathology/ICIAR2018_BACH_Challenge.zip\n"
      ],
      "metadata": {
        "id": "pJ5KSHt4nBbp"
      },
      "execution_count": null,
      "outputs": []
    },
    {
      "cell_type": "markdown",
      "source": [
        "Step 4 — Unzip\n",
        "For dataset with multiple zip files like the example, I tend to change directory to the designated folder and unzip them one by one.\n",
        "\n",
        "!unzip -q file[.zip] -d [exdir]\n",
        "\n",
        "-q suppress the printing of the file names being extracted\n",
        "-d [exdir] optional directory to which to extract files"
      ],
      "metadata": {
        "id": "2tO3qXX7Yo8M"
      }
    },
    {
      "cell_type": "code",
      "source": [
        "\n",
        "import os\n",
        "os.chdir('gdrive/My Drive/kaggle/cancer')  #change dir\n",
        "!mkdir train  #create a directory named train/\n",
        "!mkdir test  #create a directory named test/\n",
        "!unzip -q train.zip -d train/  #unzip data in train/\n",
        "!unzip -q test.zip -d test/  #unzip data in test/\n",
        "!unzip sample_submission.csv.zip\n",
        "!unzip train_labels.csv.zip"
      ],
      "metadata": {
        "id": "2mVz9ZM0Yd8G"
      },
      "execution_count": null,
      "outputs": []
    },
    {
      "cell_type": "markdown",
      "source": [
        ""
      ],
      "metadata": {
        "id": "Nov2AGGAXPNM"
      }
    },
    {
      "cell_type": "markdown",
      "source": [
        ""
      ],
      "metadata": {
        "id": "0xr65ftrXPB2"
      }
    }
  ],
  "metadata": {
    "accelerator": "GPU",
    "colab": {
      "collapsed_sections": [],
      "name": "Copie de download_data_LSOTB.ipynb",
      "provenance": [],
      "include_colab_link": true
    },
    "gpuClass": "standard",
    "kernelspec": {
      "display_name": "Python 3",
      "name": "python3"
    }
  },
  "nbformat": 4,
  "nbformat_minor": 0
}